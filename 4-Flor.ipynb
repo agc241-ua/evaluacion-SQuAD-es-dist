{
 "cells": [
  {
   "cell_type": "code",
   "execution_count": null,
   "metadata": {
    "id": "m0AaDG6jdVrZ"
   },
   "outputs": [],
   "source": [
    "from transformers import AutoTokenizer, AutoModelForCausalLM\n",
    "import transformers\n",
    "import torch\n",
    "import json\n",
    "import time\n",
    "import pandas as pd\n",
    "import random\n",
    "import numpy as np\n"
   ]
  },
  {
   "cell_type": "code",
   "execution_count": null,
   "metadata": {
    "id": "VfM1Dg4OdZsm"
   },
   "outputs": [],
   "source": [
    "#Debemos fijar el parámetro de random seed siempre al mismo valor y después cargar el modelo para que el modelo devuelva siempre el mismo valor\n",
    "# SET RANDOM SEED\n",
    "def set_seed(seed=42):\n",
    "    random.seed(seed)\n",
    "    np.random.seed(seed)\n",
    "    torch.manual_seed(seed)\n",
    "    torch.cuda.manual_seed_all(seed)\n",
    "    torch.backends.cudnn.deterministic = True\n",
    "    torch.backends.cudnn.benchmark = False\n",
    "\n",
    "set_seed(42)\n",
    "\n",
    "\n",
    "model_id = \"BSC-LT/Flor-6.3B-Instruct-4096\"\n",
    "tokenizer = AutoTokenizer.from_pretrained(model_id)\n",
    "tokenizer.pad_token = tokenizer.eos_token\n",
    "model= AutoModelForCausalLM.from_pretrained(\n",
    "    model_id,\n",
    "    torch_dtype=torch.bfloat16,\n",
    "    device_map=\"auto\")\n",
    "model.eval()"
   ]
  },
  {
   "cell_type": "code",
   "execution_count": null,
   "metadata": {
    "id": "QQg-zvocdwjt"
   },
   "outputs": [],
   "source": [
    "# Carga del dataset\n",
    "with open(\"1-test.json\", \"r\", encoding=\"utf-8\") as f:\n",
    "    test_dataset = json.load(f)[\"data\"]\n",
    "\n",
    "# Letras para las opciones\n",
    "OPTION_LETTERS = [\"A\", \"B\", \"C\", \"D\", \"E\"]\n",
    "\n",
    "def prompt_format(context, question, choices):\n",
    "  prompt = f\"Dado el siguiente contexto:\\n{context}\\nPregunta: {question}\\nOpciones:\\n\" + \\\n",
    "         \"\\n\".join([f\"{OPTION_LETTERS[i]}. {opt}\" for i, opt in enumerate(choices)]) + \\\n",
    "         \"\\nRespuesta correcta: \"\n",
    "  return prompt\n"
   ]
  },
  {
   "cell_type": "code",
   "execution_count": null,
   "metadata": {
    "id": "GFPoD9Q3fX5n"
   },
   "outputs": [],
   "source": [
    "# Evaluación\n",
    "correct_predictions = 0\n",
    "total_questions = len(test_dataset)\n",
    "predictions = []\n",
    "\n",
    "start_time = time.time()\n",
    "\n",
    "for item in test_dataset:\n",
    "    context = item[\"context\"]\n",
    "    question = item[\"question\"]\n",
    "    choices = [choice[\"text\"] for choice in item[\"choices\"]]\n",
    "    correct_answer = next(choice[\"text\"] for choice in item[\"choices\"] if choice[\"type\"] == \"correct answer\")\n",
    "\n",
    "    if len(choices) > len(OPTION_LETTERS):\n",
    "        print(f\"Demasiadas opciones para la pregunta: '{question}'\")\n",
    "        continue\n",
    "\n",
    "    prompt = prompt_format(context, question, choices)\n",
    "    inputs_ids = tokenizer(prompt, return_tensors=\"pt\", max_length=1024, truncation=True).to(model.device)\n",
    "\n",
    "    # Estimar longitud media de las opciones (en palabras)\n",
    "    avg_words_per_option = np.mean([len(option.split()) for option in choices])\n",
    "    estimated_tokens_needed = int(avg_words_per_option * 1.5) + 10  # 1.5x palabras ≈ tokens, +5 de margen\n",
    "\n",
    "    with torch.no_grad():\n",
    "        outputs = model.generate(**inputs_ids,\n",
    "                                      max_new_tokens=estimated_tokens_needed,\n",
    "                                      do_sample=False,\n",
    "                                      pad_token_id=tokenizer.pad_token_id)\n",
    "        generated_text = tokenizer.decode(outputs[0], skip_special_tokens=True)\n",
    "\n",
    "    respuesta_generada = generated_text[len(prompt):].strip()\n",
    "    predicted_answer = next(\n",
    "    (opt for opt in choices if opt.lower() in respuesta_generada.lower()),\n",
    "    None)\n",
    "\n",
    "    if predicted_answer is None:\n",
    "        prediction_answer = \"[NO DETECTADA]\"\n",
    "        prediction_letter = None\n",
    "    else:\n",
    "        prediction_letter = OPTION_LETTERS[choices.index(predicted_answer)]\n",
    "\n",
    "    is_correct = predicted_answer == correct_answer\n",
    "    if is_correct:\n",
    "        correct_predictions += 1\n",
    "\n",
    "    predictions.append({\n",
    "        \"context\": context,\n",
    "        \"question\": question,\n",
    "        \"choices\": [f\"{OPTION_LETTERS[i]}. {opt}\" for i, opt in enumerate(choices)],\n",
    "        \"correct_answer\": correct_answer,\n",
    "        \"generated_text\": generated_text[len(prompt):].strip(),\n",
    "        \"predicted_answer\": predicted_answer,\n",
    "        \"predicted_letter\": prediction_letter,\n",
    "        \"is_correct\": is_correct\n",
    "    })\n",
    "\n",
    "\n",
    "# Métricas\n",
    "end_time = time.time()\n",
    "print(f\"\\nTiempo total: {end_time - start_time:.2f} segundos\")\n",
    "print(f\"\\nPreguntas evaluadas: {total_questions}\")\n",
    "print(f\"Correctas: {correct_predictions}\")\n",
    "print(f\"Precisión: {correct_predictions / total_questions:.2%}\")\n",
    "\n",
    "# Guardar resultados\n",
    "with open(\"predictionsSALAMANDRA.json\", \"w\", encoding=\"utf-8\") as f:\n",
    "    json.dump(predictions, f, indent=2, ensure_ascii=False)"
   ]
  }
 ],
 "metadata": {
  "accelerator": "GPU",
  "colab": {
   "authorship_tag": "ABX9TyOPmn9cNlOhuYmmYqxtnuxp",
   "gpuType": "T4",
   "provenance": []
  },
  "kernelspec": {
   "display_name": "Python 3",
   "name": "python3"
  },
  "language_info": {
   "name": "python"
  }
 },
 "nbformat": 4,
 "nbformat_minor": 0
}
