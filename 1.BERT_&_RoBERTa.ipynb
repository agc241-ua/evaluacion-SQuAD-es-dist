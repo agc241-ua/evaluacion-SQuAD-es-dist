{
 "cells": [
  {
   "cell_type": "code",
   "execution_count": null,
   "metadata": {
    "id": "55EaeIkCXafV"
   },
   "outputs": [],
   "source": [
    "import json\n",
    "import torch\n",
    "import torch.nn.functional as F\n",
    "import time\n",
    "import random\n",
    "import numpy as np\n",
    "from transformers import RobertaTokenizer, RobertaForMultipleChoice\n",
    "# from transformers import BertTokenizer, BertForMultipleChoice\n"
   ]
  },
  {
   "cell_type": "code",
   "execution_count": null,
   "metadata": {
    "id": "Q2UrbdXbZ0Ky"
   },
   "outputs": [],
   "source": [
    "# SET RANDOM SEED\n",
    "def set_seed(seed=42):\n",
    "    random.seed(seed)\n",
    "    np.random.seed(seed)\n",
    "    torch.manual_seed(seed)\n",
    "    torch.cuda.manual_seed_all(seed)\n",
    "    torch.backends.cudnn.deterministic = True\n",
    "    torch.backends.cudnn.benchmark = False\n",
    "\n",
    "set_seed(42)\n",
    "\n",
    "# # Modelo y tokenizer\n",
    "# bert = \"google-bert/bert-base-multilingual-cased\"\n",
    "# tokenizer = BertTokenizer.from_pretrained(bert)\n",
    "# model = BertForMultipleChoice.from_pretrained(bert)\n",
    "\n",
    "roberta = \"PlanTL-GOB-ES/roberta-base-bne\"\n",
    "tokenizer = RobertaTokenizer.from_pretrained(roberta)\n",
    "model = RobertaForMultipleChoice.from_pretrained(roberta)"
   ]
  },
  {
   "cell_type": "code",
   "execution_count": null,
   "metadata": {
    "id": "eZq9jQCEayfl"
   },
   "outputs": [],
   "source": [
    "# Cargar dataset\n",
    "with open(\"1-test.json\", \"r\", encoding=\"utf-8\") as f:\n",
    "    test_dataset = json.load(f)[\"data\"]\n",
    "\n",
    "def format_pair(context, question, choice):\n",
    "    return f\"{context} Pregunta: {question} Opción: {choice}\"\n",
    "\n",
    "def prepare_inputs(context, question, choices):\n",
    "    paired_texts = [format_pair(context, question, choice) for choice in choices]\n",
    "    #Tokenizamos el prompt --> se pasa a numeros\n",
    "    encoded = tokenizer(paired_texts, padding=True, truncation=True, return_tensors=\"pt\", max_length=1024)\n",
    "    return {\n",
    "        #IDs de los tokens del modelo\n",
    "        'input_ids': encoded['input_ids'].unsqueeze(0),\n",
    "        #máscara que indica qué tokens son reales y cuales son padding\n",
    "        'attention_mask': encoded['attention_mask'].unsqueeze(0),\n",
    "    }\n",
    "\n",
    "#El modelo predice la opción correcta\n",
    "def predict_answer(inputs, choices):\n",
    "#torch.no_grad --> más rápido y consume menos memoria\n",
    "  with torch.no_grad():\n",
    "    outputs = model(**inputs)\n",
    "    logits = outputs.logits.squeeze(0)  # [num_choices]\n",
    "    #Convertimos los logits en probabilidades\n",
    "    probs = F.softmax(logits, dim=-1)\n",
    "    #Se selecciona el índice con más probabilidad\n",
    "    predicted_index = torch.argmax(probs).item()\n",
    "\n",
    "    #Verificamos que el modelo no haya devuelto un índice fuera del rango de opciones\n",
    "    if predicted_index >= len(choices):\n",
    "        print(f\"Error: Índice de predicción {predicted_index} fuera de rango.\")\n",
    "        return None\n",
    "\n",
    "    return choices[predicted_index]\n"
   ]
  },
  {
   "cell_type": "code",
   "execution_count": null,
   "metadata": {
    "colab": {
     "base_uri": "https://localhost:8080/",
     "height": 423
    },
    "executionInfo": {
     "elapsed": 114350,
     "status": "error",
     "timestamp": 1747998480942,
     "user": {
      "displayName": "Alba García Cáceres",
      "userId": "16957210619186256406"
     },
     "user_tz": -120
    },
    "id": "ecuKc9xRc4JT",
    "outputId": "2836968c-d605-4603-a3cd-a08858ce7c21"
   },
   "outputs": [],
   "source": [
    "max_labels = max(len(item[\"choices\"]) for item in json.load(open(\"1-test.json\"))[\"data\"])\n",
    "correct_predictionsBERT = 0\n",
    "total_questions = len(test_dataset)\n",
    "predictions = []\n",
    "\n",
    "start_time = time.time()\n",
    "for item in test_dataset:\n",
    "  is_correct_prediction = False\n",
    "  context = item[\"context\"]\n",
    "  question = item[\"question\"]\n",
    "  choices = [choice[\"text\"] for choice in item[\"choices\"]]\n",
    "  correct_answer = next(choice[\"text\"] for choice in item[\"choices\"] if choice[\"type\"] == \"correct answer\")\n",
    "\n",
    "  num_choices = len(choices)\n",
    "  if num_choices > max_labels:\n",
    "    print(f\"Error: Pregunta con {num_choices} opciones. Supera el máximo permitido: {max_labels}\")\n",
    "    continue\n",
    "  if num_choices == 0:\n",
    "    print(f\"Pregunta con {num_choices} opciones.\")\n",
    "    continue\n",
    "\n",
    "  # prompt = format_prompt(context, question, choices)\n",
    "  # inputsBERT = tokenizer_bert(prompt, return_tensors=\"pt\", padding=True, truncation=True, max_length=512)\n",
    "  # predicted_answerBERT = predict_answerBERT(inputsBERT, choices, num_choices)\n",
    "  inputs = prepare_inputs(context, question, choices)\n",
    "  predicted_answer = predict_answer(inputs, choices)\n",
    "\n",
    "\n",
    "  if correct_answer == predicted_answer:\n",
    "    correct_predictionsBERT += 1\n",
    "    is_correct_prediction = True\n",
    "\n",
    "\n",
    "  predictions.append({\n",
    "    \"context\": context,\n",
    "    \"question\": question,\n",
    "    \"choices\": choices,\n",
    "    \"correct_answer\": correct_answer,\n",
    "    \"predicted_answer\": predicted_answer,\n",
    "    \"is_correct\": is_correct_prediction\n",
    "  })\n",
    "\n",
    "\n",
    "end_time = time.time()\n",
    "elapsed_time = end_time - start_time\n",
    "\n",
    "with open(\"predictionsBERT.json\", \"w\", encoding=\"utf-8\") as f:\n",
    "    json.dump(predictions, f, indent=4, ensure_ascii=False)\n",
    "\n",
    "print(f\"Tiempo de ejecución: {elapsed_time:.2f} segundos\")\n",
    "print()\n",
    "print(f\"Total de preguntas evaluadas: {total_questions}\")\n",
    "print(f\"Respuestas correctas BERT: {correct_predictionsBERT}\")\n",
    "print(f\"Precisión del modelo BERT: {correct_predictionsBERT / total_questions:.2%}\")\n",
    "print()"
   ]
  }
 ],
 "metadata": {
  "accelerator": "GPU",
  "colab": {
   "authorship_tag": "ABX9TyPpRREpNZASCLzkslN/kxrD",
   "gpuType": "T4",
   "provenance": []
  },
  "kernelspec": {
   "display_name": "Python 3",
   "name": "python3"
  },
  "language_info": {
   "name": "python"
  }
 },
 "nbformat": 4,
 "nbformat_minor": 0
}
